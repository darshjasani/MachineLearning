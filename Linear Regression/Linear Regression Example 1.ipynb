{
 "cells": [
  {
   "cell_type": "markdown",
   "metadata": {},
   "source": [
    "\n",
    "Hope you have read Linear Regression Readme file, now you are read to see how Linear Regression works in real life.\n",
    "This is the first step of many and here we begin our journey, making the world better place.\n",
    "\n",
    "import matplotlib.pyplot as plt --> matplotlib is a python library used for data visualisatoin. We can draw bar graph, histogram, pie chart, scatter plot and lot of fun things using this library. import is keyword in python to include this library in our file and we can write plt (short name)  instead of writing matplotlib.pyplot everywhere.\n",
    "as is an alias.\n",
    "\n",
    "\n",
    "import numpy as np              --> numpy is also a python library very much useful in numerical calculations. We can work like 50x faster then normal python list. Mainly used for array, random number generation, matrices, Fourier transformation etc. Again we know as is used to rename numpy as np.\n",
    "\n",
    "\n",
    "%matplotlib inline             --> This is a magic function in IPython. It is used to set backend of matplotlib to 'inline' backend. When using the 'inline' backend, our matplotlib graphs will be included in your notebook, nect to our code.\n",
    "\n",
    "Now let's run the below cell"
   ]
  },
  {
   "cell_type": "code",
   "execution_count": 25,
   "metadata": {},
   "outputs": [],
   "source": [
    "import matplotlib.pyplot as plt\n",
    "import numpy as np\n",
    "%matplotlib inline"
   ]
  },
  {
   "cell_type": "markdown",
   "metadata": {},
   "source": [
    "Now let us take two list (Visit my Python Basic for more info) in python namely x,y each containing values as shown in below cell. "
   ]
  },
  {
   "cell_type": "code",
   "execution_count": 26,
   "metadata": {},
   "outputs": [],
   "source": [
    "x = [1,2,3,4,5]\n",
    "y = [1,2,1.3,3.75,2.25]\n",
    "\n"
   ]
  },
  {
   "cell_type": "markdown",
   "metadata": {},
   "source": [
    "Now let plot our points using scatter plot as shown below.\n",
    "\n",
    "plt.scatter(x,y)   --> We know plt is short name of matplotlib.pyplot and scatter() is an inbuilt function of matplotlib.pyplot used to draw scatter plot which is like to draw x and y co-ordinates in simple a graph paper.Here we can pass the x and y list as parameter which will take one one value from each and plot it one by one. \n",
    "\n",
    "\n",
    "plt.show() --> It is used to display our scatter plot and blocks other info which we don't need.\n",
    "\n"
   ]
  },
  {
   "cell_type": "code",
   "execution_count": 27,
   "metadata": {},
   "outputs": [
    {
     "data": {
      "image/png": "[encoded data removed]",
      "text/plain": [
       "<Figure size 432x288 with 1 Axes>"
      ]
     },
     "metadata": {
      "needs_background": "light"
     },
     "output_type": "display_data"
    }
   ],
   "source": [
    "a1 = x\n",
    "b1 = y\n",
    "plt.scatter(x,y) \n",
    "\n",
    "plt.show()"
   ]
  },
  {
   "cell_type": "code",
   "execution_count": 46,
   "metadata": {},
   "outputs": [
    {
     "name": "stdout",
     "output_type": "stream",
     "text": [
      "[[0.425]]\n",
      "[0.785]\n"
     ]
    }
   ],
   "source": [
    "from sklearn import linear_model\n",
    "\n",
    "model = linear_model.LinearRegression() # Here we created instance of our linear regression model.\n",
    "# As we have only one feature and linear regression needs x_train as 2D array\n",
    "# First we convert x (which is list) into array using numpy libray function np.array().\n",
    "# Now  we convert x in 2D array with reshape function.\n",
    "x = np.array(x).reshape(5,1)\n",
    "\n",
    "# We need y_train also as an array.\n",
    "y = np.array(y).reshape(5,1)\n",
    "\n",
    "# Here we train our model \n",
    "model.fit(x,y)\n",
    "\n",
    "# model.coef_ will return coefficient of our best fit line to the data provided.\n",
    "print(model.coef_)  \n",
    "\n",
    "# model.intercept_ will retrun intercept value of our best fit line.\n",
    "print(model.intercept_)"
   ]
  },
  {
   "cell_type": "code",
   "execution_count": 47,
   "metadata": {},
   "outputs": [
    {
     "data": {
      "text/plain": [
       "array([[2.91]])"
      ]
     },
     "execution_count": 47,
     "metadata": {},
     "output_type": "execute_result"
    }
   ],
   "source": [
    "# here we predict any new value \n",
    "y_pre = model.predict([[5]])\n",
    "y_pre"
   ]
  },
  {
   "cell_type": "code",
   "execution_count": 48,
   "metadata": {},
   "outputs": [
    {
     "data": {
      "image/png": "[encoded data removed]",
      "text/plain": [
       "<Figure size 432x288 with 1 Axes>"
      ]
     },
     "metadata": {
      "needs_background": "light"
     },
     "output_type": "display_data"
    }
   ],
   "source": [
    "# Optional \n",
    "# Visualization for our best fit line and distacne between predicted and acutal value\n",
    "\n",
    "plt.scatter(a1,b1)\n",
    "plt.plot(x,model.coef_[0][0] * x + model.intercept_[0],'-r')\n",
    "y_pred = model.coef_[0][0] * x + model.intercept_[0]\n",
    "\n",
    "\n",
    "p = [0,0]\n",
    "q = [0,0]\n",
    "\n",
    "for i in range(5):\n",
    "    p[0] = x[i]\n",
    "    p[1] = x[i]\n",
    "    q[0] = y[i]\n",
    "    q[1] = y_pred[i]\n",
    "    plt.scatter(a1,b1,color='b')\n",
    "    plt.plot(x,model.coef_[0][0] * x + model.intercept_[0],'-r')\n",
    "    plt.plot(p,q,'-g')\n",
    "    \n",
    "for i in range(5):\n",
    "    z = '    ' + str(b1[i]) \n",
    "    plt.text(x[i],y[i],z)\n",
    "    z1 = '    ' + str(b1[i]-y_pred[i])\n",
    "    plt.text(x[i],(y[i]+y_pred[i])/2,z1.replace('[','').replace(']',''),color=\"purple\")\n",
    "    \n",
    "plt.show()\n",
    "\n"
   ]
  }
 ],
 "metadata": {
  "kernelspec": {
   "display_name": "Python 3",
   "language": "python",
   "name": "python3"
  },
  "language_info": {
   "codemirror_mode": {
    "name": "ipython",
    "version": 3
   },
   "file_extension": ".py",
   "mimetype": "text/x-python",
   "name": "python",
   "nbconvert_exporter": "python",
   "pygments_lexer": "ipython3",
   "version": "3.8.10"
  }
 },
 "nbformat": 4,
 "nbformat_minor": 4
}
