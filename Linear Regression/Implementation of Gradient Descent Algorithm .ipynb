{
 "cells": [
  {
   "cell_type": "code",
   "execution_count": 1,
   "id": "a5a244ab",
   "metadata": {},
   "outputs": [
    {
     "name": "stdout",
     "output_type": "stream",
     "text": [
      "0.821918733460415 0.41477410285478084\n"
     ]
    }
   ],
   "source": [
    "# Gradient Descent Algorithm\n",
    "# General Approach \n",
    "# Check out Linear Regression Readme file to know about Gradient Descent Algorithm.\n",
    "\n",
    "\n",
    "x = [1,2,3,4,5]\n",
    "y = [1,2,1.3,3.75,2.25]\n",
    "\n",
    "# a is theta0 and b is theta1\n",
    "a = 1\n",
    "b = 1\n",
    "alpha = 0.001\n",
    "\n",
    "def h(x):\n",
    "    return a + b*x\n",
    "\n",
    "def sum1(x) :\n",
    "    sum1 = 0\n",
    "    for i in range(0,5) :\n",
    "            sum1 = sum1 + (h(x[i])-y[i])\n",
    "    return sum1\n",
    "\n",
    "def sum2(x) :\n",
    "    sum2 = 0\n",
    "    for i in range(0,5) :\n",
    "            sum2 = sum2 + ((h(x[i])-y[i]))*x[i]\n",
    "    return sum2\n",
    "\n",
    "            \n",
    "for i in range(1,2000) :\n",
    "    \n",
    "    t0 = a - alpha*(sum1(x))/5\n",
    "    t1 = b - alpha*(sum2(x))/5\n",
    "    a = t0\n",
    "    b = t1\n",
    "    \n",
    "    \n",
    "    \n",
    "print(a,b)\n",
    "\n"
   ]
  },
  {
   "cell_type": "code",
   "execution_count": 3,
   "id": "e5589de7",
   "metadata": {},
   "outputs": [
    {
     "name": "stdout",
     "output_type": "stream",
     "text": [
      "0.821918733460415 0.41477410285478084\n"
     ]
    }
   ],
   "source": [
    "# Gradient Descent Algorithm\n",
    "# Vectorization Apporach\n",
    "import numpy as np\n",
    "\n",
    "\n",
    "x = [1,2,3,4,5]\n",
    "y = [1,2,1.3,3.75,2.25]\n",
    "\n",
    "# a is theta0 and b is theta1\n",
    "a = 1\n",
    "b = 1\n",
    "alpha = 0.001\n",
    "X = np.array(x)\n",
    "Y = np.array(y)\n",
    "\n",
    "\n",
    "            \n",
    "for i in range(1,2000) :\n",
    "    h = a + b*X\n",
    "    p = (1/5) * sum(h-Y)\n",
    "    q = (1/5) * sum(X*(h-Y))\n",
    "    \n",
    "    t0 = a - alpha*p\n",
    "    t1 = b - alpha*q\n",
    "    a = t0\n",
    "    b = t1\n",
    "    #print(a,b)\n",
    "    \n",
    "    \n",
    "    \n",
    "print(a,b)\n",
    "\n",
    "\n"
   ]
  }
 ],
 "metadata": {
  "kernelspec": {
   "display_name": "Python 3",
   "language": "python",
   "name": "python3"
  },
  "language_info": {
   "codemirror_mode": {
    "name": "ipython",
    "version": 3
   },
   "file_extension": ".py",
   "mimetype": "text/x-python",
   "name": "python",
   "nbconvert_exporter": "python",
   "pygments_lexer": "ipython3",
   "version": "3.8.10"
  }
 },
 "nbformat": 4,
 "nbformat_minor": 5
}
